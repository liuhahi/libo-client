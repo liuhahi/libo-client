{
  "cells": [
    {
      "cell_type": "markdown",
      "metadata": {},
      "source": [
        "# VirtueRed API Usage Guide\n",
        "\n",
        "## Setup\n",
        "Before running this notebook, ensure you have the following:\n",
        "- Jupyter Notebook installed\n",
        "- `requests` library installed (`pip install requests`)\n",
        "- Your custom LLM code file in the `client/models/` directory\n",
        "- The client address (obtained by running `python client.py` in the client directory)\n"
      ]
    },
    {
      "cell_type": "markdown",
      "metadata": {},
      "source": [
        "## 1. Import Libraries and Set Base URL\n",
        "\n",
        "Run this cell to import the necessary libraries and set the base URL for the API."
      ]
    },
    {
      "cell_type": "code",
      "execution_count": 1,
      "metadata": {},
      "outputs": [],
      "source": [
        "import requests\n",
        "import json\n",
        "\n",
        "# Base URL for the API (don't modify)\n",
        "baseAPI = \"https://redteaming.virtueai.io\""
      ]
    },
    {
      "cell_type": "code",
      "execution_count": null,
      "metadata": {},
      "outputs": [],
      "source": []
    },
    {
      "cell_type": "markdown",
      "metadata": {},
      "source": [
        "## 2. Initialize Scan\n",
        "\n",
        "This cell defines and runs the function to initialize a new scan. \n",
        "IMPORTANT: `Run this cell only ONCE per scan`.\n",
        "\n",
        "Before running:\n",
        "1. Replace 'your_scan_name' with a name for this scan\n",
        "2. Replace 'your_model_file.py' with the name of your custom LLM code file\n",
        "3. Replace 'your_client_address' with the address obtained from running the client\n",
        "\n",
        "After running, save the returned `filename` for use in subsequent cells."
      ]
    },
    {
      "cell_type": "code",
      "execution_count": 2,
      "metadata": {},
      "outputs": [
        {
          "name": "stdout",
          "output_type": "stream",
          "text": [
            "Scan initialized successfully!\n",
            "Filename: your_scan_name_your_model_file_2024-10-01T02_23_50.238Z\n",
            "Save this filename to use in the status check and results retrieval.\n"
          ]
        }
      ],
      "source": [
        "def initialize_scan():\n",
        "    ScanUrl = baseAPI + \"/scan_subcategory\"\n",
        "    \n",
        "    data = {\n",
        "        \"userId\": \"test_user\",  # Don't modify this\n",
        "        \"selectedDatasets\": [\n",
        "            {\n",
        "                \"name\": \"Fairness\",\n",
        "                \"subcategories\": [\"Salary Prediction\", \"Crime Prediction\"]\n",
        "            }\n",
        "        ],  # Don't modify this\n",
        "        \"scanName\": \"your_scan_name\",  # Replace with your chosen scan name\n",
        "        \"modelName\": \"your_model_file.py\",  # Replace with your model file name\n",
        "        \"clientAddress\": \"http://your_client_address:4410\"  # Replace with your client address, don't modify the default port 4410\n",
        "    }\n",
        "    \n",
        "    headers = {\"Content-Type\": \"application/json\"}\n",
        "    \n",
        "    response = requests.post(ScanUrl, json=data, headers=headers)\n",
        "\n",
        "    if response.status_code == 200:\n",
        "        print(\"Scan initialized successfully!\")\n",
        "        filename = response.json().get('filename')\n",
        "        print(f\"Filename: {filename}\")\n",
        "        return filename\n",
        "    else:\n",
        "        print(f\"Scan initialization failed: {response.status_code}\")\n",
        "        print(response.text)\n",
        "        return None\n",
        "\n",
        "# Run the initialization\n",
        "filename = initialize_scan()\n",
        "print(\"Save this filename to use in the status check and results retrieval.\")"
      ]
    },
    {
      "cell_type": "markdown",
      "metadata": {},
      "source": [
        "## 3. Check Scan Status\n",
        "\n",
        "This cell runs the function to check the status of your scan.\n",
        "You can run this cell multiple times to monitor the progress of your scan.\n",
        "\n",
        "If you're running this in a new session, make sure to set the `filename` variable\n",
        "to the value returned by the initialization step before running this cell."
      ]
    },
    {
      "cell_type": "code",
      "execution_count": 3,
      "metadata": {},
      "outputs": [
        {
          "name": "stdout",
          "output_type": "stream",
          "text": [
            "Scanning progress: 1.0%\n"
          ]
        }
      ],
      "source": [
        "def check_scan_status(filename):\n",
        "    CheckScanUrl = baseAPI + '/api/getreport'\n",
        "    \n",
        "    data = {\"filename\": filename}\n",
        "    headers = {\"Content-Type\": \"application/json\"}\n",
        "    \n",
        "    response = requests.post(CheckScanUrl, json=data, headers=headers)\n",
        "\n",
        "    if response.status_code == 200:\n",
        "        report_data = response.json()\n",
        "        print(f\"Scanning progress: {report_data.get('scanning_progress')}%\")\n",
        "    elif response.status_code == 400:\n",
        "        print(\"Error: Filename not provided\")\n",
        "    elif response.status_code == 404:\n",
        "        print(\"Error: File not found\")\n",
        "    else:\n",
        "        print(f\"Status check failed: {response.status_code}\")\n",
        "        print(response.text)\n",
        "\n",
        "# Run the status check\n",
        "# If 'filename' is not defined, replace it with the actual filename from the initialization step\n",
        "check_scan_status(filename)\n"
      ]
    },
    {
      "cell_type": "markdown",
      "metadata": {},
      "source": [
        "## 4. Check Results and Save Data\n",
        "\n",
        "This cell retrieves the current results of your scan, displays a summary, and saves the complete data to a JSON file. You can run this cell multiple times to see updated results, even if the scan is still in progress.\n",
        "\n",
        "Before running this cell:\n",
        "1. Ensure the `filename` variable is set to the correct value from the initialization step.\n",
        "2. Set the `save_path` variable to your desired file path and name for saving the JSON data.\n",
        "\n",
        "Usage notes:\n",
        "- The cell will display a summary of the results in the notebook output.\n",
        "- If results are successfully retrieved, they will be saved to the JSON file specified by `save_path`.\n",
        "- Each run overwrites the previous JSON file with the latest data unless you change the `save_path`.\n",
        "- The `json_data` variable contains all information returned by the API and can be used for further processing.\n"
      ]
    },
    {
      "cell_type": "code",
      "execution_count": 4,
      "metadata": {},
      "outputs": [
        {
          "name": "stdout",
          "output_type": "stream",
          "text": [
            "Error: Run not found\n"
          ]
        }
      ],
      "source": [
        "import json\n",
        "\n",
        "def check_results(filename):\n",
        "    resultUrl = baseAPI + f\"/api/data/{filename}\"\n",
        "    \n",
        "    response = requests.get(resultUrl)\n",
        "\n",
        "    if response.status_code == 200:\n",
        "        json_data = response.json()\n",
        "        print(\"Run data summary:\")\n",
        "        print(f\"Category scores: {json_data.get('averages')}\")\n",
        "        print(f\"Subcategory scores: {json_data.get('averages_sub')}\")\n",
        "        print(f\"Number of failure cases: {len(json_data.get('failures', []))}\")\n",
        "        print(\"Use json_data['scores'] for a detailed breakdown of results by risk levels.\")\n",
        "        print(\"Use json_data['failures'] to see the entire list of failure cases.\")\n",
        "        return json_data\n",
        "    elif response.status_code == 404:\n",
        "        print(\"Error: Run not found\")\n",
        "    else:\n",
        "        print(f\"Results retrieval failed: {response.status_code}\")\n",
        "        print(response.text)\n",
        "    return None\n",
        "\n",
        "def save_json_data(data, save_path):\n",
        "    with open(save_path, 'w') as f:\n",
        "        json.dump(data, f, indent=4)\n",
        "    print(f\"Data saved to {save_path}\")\n",
        "\n",
        "# Set the save path for the JSON file\n",
        "# Replace this with your desired file path and name\n",
        "save_path = \"results.json\"\n",
        "\n",
        "# Run the results check\n",
        "# If 'filename' is not defined, replace it with the actual filename from the initialization step\n",
        "json_data = check_results(filename)\n",
        "\n",
        "# Save the data if it was successfully retrieved\n",
        "if json_data:\n",
        "    save_json_data(json_data, save_path)"
      ]
    },
    {
      "cell_type": "markdown",
      "metadata": {},
      "source": [
        "## Usage Notes\n",
        "\n",
        "1. Always run the first cell to import libraries and set the base URL.\n",
        "2. Run the second cell (Initialize Scan) `only once per scan`. Save the returned filename.\n",
        "3. You can run the third cell (Check Scan Status) multiple times to monitor progress.\n",
        "4. You can run the fourth cell (Check Results) multiple times to see current results.\n",
        "5. If you close and reopen the notebook, you'll need to:\n",
        "   - Run the first cell again\n",
        "   - Manually set the `filename` variable to your saved value before running cells 3 and 4\n",
        "\n",
        "Remember: The scan continues running on the server even if you close this notebook. You can always come back later to check status and results using the saved filename."
      ]
    }
  ],
  "metadata": {
    "kernelspec": {
      "display_name": "pyenv",
      "language": "python",
      "name": "python3"
    },
    "language_info": {
      "codemirror_mode": {
        "name": "ipython",
        "version": 3
      },
      "file_extension": ".py",
      "mimetype": "text/x-python",
      "name": "python",
      "nbconvert_exporter": "python",
      "pygments_lexer": "ipython3",
      "version": "3.10.14"
    }
  },
  "nbformat": 4,
  "nbformat_minor": 2
}
